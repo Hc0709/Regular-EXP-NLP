{
 "cells": [
  {
   "cell_type": "markdown",
   "id": "ce67b1e0",
   "metadata": {},
   "source": [
    "##  A) Getting started with REGEX\n"
   ]
  },
  {
   "cell_type": "code",
   "execution_count": 3,
   "id": "0976e712",
   "metadata": {},
   "outputs": [],
   "source": [
    "import re"
   ]
  },
  {
   "cell_type": "code",
   "execution_count": 2,
   "id": "2114b021",
   "metadata": {},
   "outputs": [
    {
     "data": {
      "text/plain": [
       "'hello, how are you ?'"
      ]
     },
     "execution_count": 2,
     "metadata": {},
     "output_type": "execute_result"
    }
   ],
   "source": [
    "\"hello, how are you ?\""
   ]
  },
  {
   "cell_type": "code",
   "execution_count": 3,
   "id": "8edcfbb7",
   "metadata": {},
   "outputs": [
    {
     "data": {
      "text/plain": [
       "True"
      ]
     },
     "execution_count": 3,
     "metadata": {},
     "output_type": "execute_result"
    }
   ],
   "source": [
    "'you' in \"hello, how are you ?\""
   ]
  },
  {
   "cell_type": "code",
   "execution_count": 4,
   "id": "659adde9",
   "metadata": {},
   "outputs": [
    {
     "data": {
      "text/plain": [
       "False"
      ]
     },
     "execution_count": 4,
     "metadata": {},
     "output_type": "execute_result"
    }
   ],
   "source": [
    "'You' in \"hello, how are you ?\""
   ]
  },
  {
   "cell_type": "code",
   "execution_count": 6,
   "id": "f507d598",
   "metadata": {},
   "outputs": [
    {
     "data": {
      "text/plain": [
       "True"
      ]
     },
     "execution_count": 6,
     "metadata": {},
     "output_type": "execute_result"
    }
   ],
   "source": [
    "'You'.lower() in \"hello, how are you ?\".lower()"
   ]
  },
  {
   "cell_type": "markdown",
   "id": "f82571b4",
   "metadata": {},
   "source": [
    "## 1)re.search()  searching only for once\n",
    "\n",
    "\n",
    "re.search('what needs to be searched','from where it needs to be searched')                                             \n",
    "\n",
    "span=index of the word matched in given str"
   ]
  },
  {
   "cell_type": "code",
   "execution_count": 7,
   "id": "2b9ba691",
   "metadata": {},
   "outputs": [
    {
     "data": {
      "text/plain": [
       "<re.Match object; span=(15, 18), match='you'>"
      ]
     },
     "execution_count": 7,
     "metadata": {},
     "output_type": "execute_result"
    }
   ],
   "source": [
    "re.search('you',\"hello, how are you ?\")"
   ]
  },
  {
   "cell_type": "code",
   "execution_count": 9,
   "id": "018580c5",
   "metadata": {},
   "outputs": [
    {
     "data": {
      "text/plain": [
       "(15, 18)"
      ]
     },
     "execution_count": 9,
     "metadata": {},
     "output_type": "execute_result"
    }
   ],
   "source": [
    "s =re.search('you',\"hello, how are you ?\")\n",
    "s.span()  #returns index \n"
   ]
  },
  {
   "cell_type": "code",
   "execution_count": 10,
   "id": "b41a7093",
   "metadata": {},
   "outputs": [
    {
     "data": {
      "text/plain": [
       "<re.Match object; span=(15, 18), match='you'>"
      ]
     },
     "execution_count": 10,
     "metadata": {},
     "output_type": "execute_result"
    }
   ],
   "source": [
    "s"
   ]
  },
  {
   "cell_type": "code",
   "execution_count": 11,
   "id": "8a2d2d25",
   "metadata": {},
   "outputs": [
    {
     "data": {
      "text/plain": [
       "15"
      ]
     },
     "execution_count": 11,
     "metadata": {},
     "output_type": "execute_result"
    }
   ],
   "source": [
    "s.start()"
   ]
  },
  {
   "cell_type": "code",
   "execution_count": 12,
   "id": "f37ca00a",
   "metadata": {},
   "outputs": [
    {
     "data": {
      "text/plain": [
       "18"
      ]
     },
     "execution_count": 12,
     "metadata": {},
     "output_type": "execute_result"
    }
   ],
   "source": [
    "s.end()"
   ]
  },
  {
   "cell_type": "code",
   "execution_count": 14,
   "id": "748377d5",
   "metadata": {},
   "outputs": [
    {
     "data": {
      "text/plain": [
       "<re.Match object; span=(11, 14), match='are'>"
      ]
     },
     "execution_count": 14,
     "metadata": {},
     "output_type": "execute_result"
    }
   ],
   "source": [
    "a= 'hello, how are you ?'\n",
    "b= 'are'\n",
    "re.search(b,a)"
   ]
  },
  {
   "cell_type": "markdown",
   "id": "f4b06786",
   "metadata": {},
   "source": [
    "## 2)re.findall() for multiple occurances"
   ]
  },
  {
   "cell_type": "code",
   "execution_count": 15,
   "id": "3fed1385",
   "metadata": {},
   "outputs": [
    {
     "data": {
      "text/plain": [
       "['are', 'are', 'are']"
      ]
     },
     "execution_count": 15,
     "metadata": {},
     "output_type": "execute_result"
    }
   ],
   "source": [
    "a= 'hello, how are are area you ?'\n",
    "b= 'are'\n",
    "re.findall(b,a)"
   ]
  },
  {
   "cell_type": "code",
   "execution_count": 16,
   "id": "b2961547",
   "metadata": {},
   "outputs": [
    {
     "data": {
      "text/plain": [
       "3"
      ]
     },
     "execution_count": 16,
     "metadata": {},
     "output_type": "execute_result"
    }
   ],
   "source": [
    "len(re.findall(b,a))"
   ]
  },
  {
   "cell_type": "markdown",
   "id": "cb7874c6",
   "metadata": {},
   "source": [
    "## 2)a) re.finditer()  - to get index of all occurances"
   ]
  },
  {
   "cell_type": "code",
   "execution_count": 21,
   "id": "9969c899",
   "metadata": {},
   "outputs": [
    {
     "name": "stdout",
     "output_type": "stream",
     "text": [
      "<re.Match object; span=(10, 13), match='are'>\n",
      "(10, 13)\n",
      "<re.Match object; span=(14, 17), match='are'>\n",
      "(14, 17)\n",
      "<re.Match object; span=(18, 21), match='are'>\n",
      "(18, 21)\n"
     ]
    }
   ],
   "source": [
    "for s in re.finditer('are','hello,how are are area you ?'):\n",
    "    print(s)\n",
    "    print(s.span())"
   ]
  },
  {
   "cell_type": "markdown",
   "id": "9bbbf9c1",
   "metadata": {},
   "source": [
    "##  3)create a regex to find a particular pattern"
   ]
  },
  {
   "cell_type": "code",
   "execution_count": 27,
   "id": "ab3f8458",
   "metadata": {},
   "outputs": [
    {
     "data": {
      "text/plain": [
       "<re.Match object; span=(10, 20), match='8344324345'>"
      ]
     },
     "execution_count": 27,
     "metadata": {},
     "output_type": "execute_result"
    }
   ],
   "source": [
    "txt = \"my num is 8344324345\"\n",
    "pattern ='\\d\\d\\d\\d\\d\\d\\d\\d\\d\\d'\n",
    "re.search(p                                                                                                                                                                                                                                                                                                                                                                                                                                                                                                                                                                                                                                                                                                                                                                                                                                                                                                                                                                                                                                                                                       attern,txt)"
   ]
  },
  {
   "cell_type": "code",
   "execution_count": 28,
   "id": "b5ebe53f",
   "metadata": {},
   "outputs": [
    {
     "data": {
      "text/plain": [
       "<re.Match object; span=(10, 18), match='83443243'>"
      ]
     },
     "execution_count": 28,
     "metadata": {},
     "output_type": "execute_result"
    }
   ],
   "source": [
    "txt = \"my num is 8344324345\"\n",
    "pattern ='\\d\\d\\d\\d\\d\\d\\d\\d'\n",
    "re.search(pattern,txt)"
   ]
  },
  {
   "cell_type": "code",
   "execution_count": 30,
   "id": "f4c98fd2",
   "metadata": {},
   "outputs": [
    {
     "data": {
      "text/plain": [
       "<re.Match object; span=(3, 6), match='num'>"
      ]
     },
     "execution_count": 30,
     "metadata": {},
     "output_type": "execute_result"
    }
   ],
   "source": [
    "txt = \"my num is 8344324345\"\n",
    "pattern ='\\w\\w\\w' #prints 3 letter words\n",
    "re.search(pattern,txt)"
   ]
  },
  {
   "cell_type": "code",
   "execution_count": 31,
   "id": "50c8c9d0",
   "metadata": {},
   "outputs": [
    {
     "data": {
      "text/plain": [
       "<re.Match object; span=(10, 22), match='834-4324-345'>"
      ]
     },
     "execution_count": 31,
     "metadata": {},
     "output_type": "execute_result"
    }
   ],
   "source": [
    "txt = \"my num is 834-4324-345\"\n",
    "pattern ='\\d{3}-\\d{4}-\\d{3}'\n",
    "re.search(pattern,txt)"
   ]
  },
  {
   "cell_type": "code",
   "execution_count": 34,
   "id": "084c3647",
   "metadata": {},
   "outputs": [
    {
     "data": {
      "text/plain": [
       "'834-4324-345'"
      ]
     },
     "execution_count": 34,
     "metadata": {},
     "output_type": "execute_result"
    }
   ],
   "source": [
    "txt = \"my num is 834-4324-345\"\n",
    "pattern ='\\d{3}-\\d{4}-\\d{3}'\n",
    "re.search(pattern,txt).group()"
   ]
  },
  {
   "cell_type": "code",
   "execution_count": 32,
   "id": "457342af",
   "metadata": {},
   "outputs": [
    {
     "data": {
      "text/plain": [
       "'834-4324-345'"
      ]
     },
     "execution_count": 32,
     "metadata": {},
     "output_type": "execute_result"
    }
   ],
   "source": [
    "re.search(pattern,txt).group()"
   ]
  },
  {
   "cell_type": "code",
   "execution_count": 33,
   "id": "af553c41",
   "metadata": {},
   "outputs": [
    {
     "data": {
      "text/plain": [
       "<re.Match object; span=(10, 13), match='834'>"
      ]
     },
     "execution_count": 33,
     "metadata": {},
     "output_type": "execute_result"
    }
   ],
   "source": [
    "txt = \"my num is 834-4324-345\"\n",
    "pattern ='\\d{3}'\n",
    "re.search(pattern,txt)"
   ]
  },
  {
   "cell_type": "markdown",
   "id": "4d5db6aa",
   "metadata": {},
   "source": [
    "## B)Pattern Matching with Alphanumeric"
   ]
  },
  {
   "cell_type": "code",
   "execution_count": 1,
   "id": "6f4c5a93",
   "metadata": {},
   "outputs": [],
   "source": [
    "import re"
   ]
  },
  {
   "cell_type": "code",
   "execution_count": 2,
   "id": "f1fae415",
   "metadata": {},
   "outputs": [
    {
     "data": {
      "text/plain": [
       "['at', 'at', 'at', 'at']"
      ]
     },
     "execution_count": 2,
     "metadata": {},
     "output_type": "execute_result"
    }
   ],
   "source": [
    "re.findall(\"at\",\"the rat sat on the mat with a cat\")"
   ]
  },
  {
   "cell_type": "code",
   "execution_count": 3,
   "id": "6ac2a55c",
   "metadata": {},
   "outputs": [
    {
     "data": {
      "text/plain": [
       "['at', 'at', 'at', 'at', 'at']"
      ]
     },
     "execution_count": 3,
     "metadata": {},
     "output_type": "execute_result"
    }
   ],
   "source": [
    "re.findall(\"at\",\"the rat sat on the mat and attacked by a cat\")"
   ]
  },
  {
   "cell_type": "markdown",
   "id": "9d55e6f6",
   "metadata": {},
   "source": [
    "## 1)Finding pattern with specific ending"
   ]
  },
  {
   "cell_type": "code",
   "execution_count": 4,
   "id": "e9d5aa4a",
   "metadata": {},
   "outputs": [
    {
     "data": {
      "text/plain": [
       "['rat', 'sat', 'mat', ' at', 'cat']"
      ]
     },
     "execution_count": 4,
     "metadata": {},
     "output_type": "execute_result"
    }
   ],
   "source": [
    "re.findall(\".at\",\"the rat sat on the mat and attacked by a cat\")"
   ]
  },
  {
   "cell_type": "code",
   "execution_count": 5,
   "id": "834f9ee2",
   "metadata": {},
   "outputs": [
    {
     "data": {
      "text/plain": [
       "[' rat', ' sat', ' mat', 'd at', ' cat']"
      ]
     },
     "execution_count": 5,
     "metadata": {},
     "output_type": "execute_result"
    }
   ],
   "source": [
    "re.findall(\"..at\",\"the rat sat on the mat and attacked by a cat\")"
   ]
  },
  {
   "cell_type": "code",
   "execution_count": 6,
   "id": "5b29df78",
   "metadata": {},
   "outputs": [
    {
     "data": {
      "text/plain": [
       "['2', '6', '3', '8', '7', '4', '9']"
      ]
     },
     "execution_count": 6,
     "metadata": {},
     "output_type": "execute_result"
    }
   ],
   "source": [
    "re.findall(\"\\d\" ,\"this is number 2638749\")\n"
   ]
  },
  {
   "cell_type": "markdown",
   "id": "f6526380",
   "metadata": {},
   "source": [
    "## Ends with here in this case \\d$ displays a digit only if its present in the last\n",
    "\n"
   ]
  },
  {
   "cell_type": "code",
   "execution_count": null,
   "id": "387c9cba",
   "metadata": {},
   "outputs": [],
   "source": [
    "re.findall(\"\\d\" ,\"this is number 2 not 6\")"
   ]
  },
  {
   "cell_type": "code",
   "execution_count": 9,
   "id": "422a9170",
   "metadata": {},
   "outputs": [
    {
     "data": {
      "text/plain": [
       "['6']"
      ]
     },
     "execution_count": 9,
     "metadata": {},
     "output_type": "execute_result"
    }
   ],
   "source": [
    "\n",
    "re.findall(\"\\d$\" ,\"this is number 2 not 6\")"
   ]
  },
  {
   "cell_type": "code",
   "execution_count": 10,
   "id": "a9952433",
   "metadata": {},
   "outputs": [
    {
     "data": {
      "text/plain": [
       "[]"
      ]
     },
     "execution_count": 10,
     "metadata": {},
     "output_type": "execute_result"
    }
   ],
   "source": [
    "re.findall(\"\\d$\" ,\"this is number 2 not \")"
   ]
  },
  {
   "cell_type": "code",
   "execution_count": 11,
   "id": "6eb19219",
   "metadata": {},
   "outputs": [
    {
     "data": {
      "text/plain": [
       "['6']"
      ]
     },
     "execution_count": 11,
     "metadata": {},
     "output_type": "execute_result"
    }
   ],
   "source": [
    "re.findall(\"\\d$\" ,\"this is number 2 not 6\")"
   ]
  },
  {
   "cell_type": "code",
   "execution_count": 12,
   "id": "e2644c39",
   "metadata": {},
   "outputs": [
    {
     "data": {
      "text/plain": [
       "['32']"
      ]
     },
     "execution_count": 12,
     "metadata": {},
     "output_type": "execute_result"
    }
   ],
   "source": [
    "re.findall(\"\\d\\d$\" ,\"4is divisible by 2 not by 32\") #\\d\\d$ = to display two numbers at the end"
   ]
  },
  {
   "cell_type": "code",
   "execution_count": 13,
   "id": "53b3c62c",
   "metadata": {},
   "outputs": [
    {
     "data": {
      "text/plain": [
       "[]"
      ]
     },
     "execution_count": 13,
     "metadata": {},
     "output_type": "execute_result"
    }
   ],
   "source": [
    "re.findall(\"\\d\\d$\" ,\"4is divisible by 2 not by 3\")"
   ]
  },
  {
   "cell_type": "markdown",
   "id": "f96dca19",
   "metadata": {},
   "source": [
    "## 2) To find a pattern with particular beginning"
   ]
  },
  {
   "cell_type": "code",
   "execution_count": 14,
   "id": "4927ef2f",
   "metadata": {},
   "outputs": [
    {
     "data": {
      "text/plain": [
       "['4']"
      ]
     },
     "execution_count": 14,
     "metadata": {},
     "output_type": "execute_result"
    }
   ],
   "source": [
    "re.findall(\"^\\d\" ,\"4 is divisible by 2 not by 32\")"
   ]
  },
  {
   "cell_type": "code",
   "execution_count": 15,
   "id": "68d60972",
   "metadata": {},
   "outputs": [
    {
     "data": {
      "text/plain": [
       "[]"
      ]
     },
     "execution_count": 15,
     "metadata": {},
     "output_type": "execute_result"
    }
   ],
   "source": [
    "re.findall(\"^\\d\" ,\"is 4 divisible by 2 not by 32\")"
   ]
  },
  {
   "cell_type": "markdown",
   "id": "b84ea179",
   "metadata": {},
   "source": [
    "## 3) match patterns with specific scenario"
   ]
  },
  {
   "cell_type": "code",
   "execution_count": 16,
   "id": "dcca1006",
   "metadata": {},
   "outputs": [
    {
     "data": {
      "text/plain": [
       "['W', 'G']"
      ]
     },
     "execution_count": 16,
     "metadata": {},
     "output_type": "execute_result"
    }
   ],
   "source": [
    "re.findall('[A-Z]','Welcome to Gfg') #prints upper case letters"
   ]
  },
  {
   "cell_type": "code",
   "execution_count": 17,
   "id": "942dfb30",
   "metadata": {},
   "outputs": [
    {
     "data": {
      "text/plain": [
       "['e', 'l', 'c', 'o', 'm', 'e', 't', 'o', 'f', 'g']"
      ]
     },
     "execution_count": 17,
     "metadata": {},
     "output_type": "execute_result"
    }
   ],
   "source": [
    "re.findall('[a-z]','Welcome to Gfg') #prints lower case letters"
   ]
  },
  {
   "cell_type": "code",
   "execution_count": 18,
   "id": "daf8c020",
   "metadata": {},
   "outputs": [
    {
     "data": {
      "text/plain": [
       "['W', 'e', 'l', 'c', 'o', 'm', 'e', 't', 'o', 'G', 'f', 'g']"
      ]
     },
     "execution_count": 18,
     "metadata": {},
     "output_type": "execute_result"
    }
   ],
   "source": [
    "re.findall('[A-Za-z]','Welcome to Gfg') #prints upper&lower case letters"
   ]
  },
  {
   "cell_type": "code",
   "execution_count": 24,
   "id": "6bce011b",
   "metadata": {},
   "outputs": [
    {
     "data": {
      "text/plain": [
       "['W',\n",
       " 'e',\n",
       " 'l',\n",
       " 'c',\n",
       " 'o',\n",
       " 'm',\n",
       " 'e',\n",
       " 't',\n",
       " 'o',\n",
       " 'G',\n",
       " 'f',\n",
       " 'g',\n",
       " '1',\n",
       " '2',\n",
       " '3',\n",
       " '4',\n",
       " '4']"
      ]
     },
     "execution_count": 24,
     "metadata": {},
     "output_type": "execute_result"
    }
   ],
   "source": [
    "re.findall('[A-Za-z0-9]','Welcome to Gfg 12344') #prints upper,lower case &numbers letters"
   ]
  },
  {
   "cell_type": "markdown",
   "id": "6d5e27b8",
   "metadata": {},
   "source": [
    "##  C)text preprocessing with  re"
   ]
  },
  {
   "cell_type": "markdown",
   "id": "ab707386",
   "metadata": {},
   "source": [
    "## removing spl characters"
   ]
  },
  {
   "cell_type": "code",
   "execution_count": 10,
   "id": "8e5317a9",
   "metadata": {},
   "outputs": [],
   "source": [
    "import re"
   ]
  },
  {
   "cell_type": "code",
   "execution_count": 30,
   "id": "c652553f",
   "metadata": {},
   "outputs": [],
   "source": [
    "txt = 'Isha is happ%y!! but, wh$y is she not playing?'"
   ]
  },
  {
   "cell_type": "code",
   "execution_count": 31,
   "id": "ea781c00",
   "metadata": {},
   "outputs": [
    {
     "data": {
      "text/plain": [
       "'Isha is happy but why is she not playing'"
      ]
     },
     "execution_count": 31,
     "metadata": {},
     "output_type": "execute_result"
    }
   ],
   "source": [
    "''.join(re.findall('[^$%,*?!]+',txt))"
   ]
  },
  {
   "cell_type": "markdown",
   "id": "5a671bc1",
   "metadata": {},
   "source": [
    "## exclusion"
   ]
  },
  {
   "cell_type": "code",
   "execution_count": 4,
   "id": "e7dedc54",
   "metadata": {},
   "outputs": [
    {
     "name": "stdout",
     "output_type": "stream",
     "text": [
      "['2', '0']\n"
     ]
    }
   ],
   "source": [
    "txt = \"I'm HC and im 20\"\n",
    "print(re.findall('[\\d]',txt))"
   ]
  },
  {
   "cell_type": "code",
   "execution_count": 6,
   "id": "e1997bc7",
   "metadata": {},
   "outputs": [
    {
     "name": "stdout",
     "output_type": "stream",
     "text": [
      "['20']\n"
     ]
    }
   ],
   "source": [
    "txt = \"I'm 20\"\n",
    "print(re.findall('\\d\\d',txt))"
   ]
  },
  {
   "cell_type": "code",
   "execution_count": 10,
   "id": "b5dc5405",
   "metadata": {},
   "outputs": [
    {
     "name": "stdout",
     "output_type": "stream",
     "text": [
      "I'm hc and im \n"
     ]
    }
   ],
   "source": [
    "#all other cases except  digits\n",
    "\n",
    "txt = \"I'm hc and im 20\"\n",
    "print(''.join(re.findall('\\D',txt)))"
   ]
  },
  {
   "cell_type": "markdown",
   "id": "abcb3296",
   "metadata": {},
   "source": [
    "## finding patterns like geeks-for-geeks"
   ]
  },
  {
   "cell_type": "code",
   "execution_count": 9,
   "id": "47182afd",
   "metadata": {},
   "outputs": [],
   "source": [
    " txt =\"hello I am studing from geeks-for-geeks and its amazing.Let's see how this work-it-out,hellos-qert-ewc\""
   ]
  },
  {
   "cell_type": "code",
   "execution_count": 12,
   "id": "7b78de41",
   "metadata": {},
   "outputs": [
    {
     "data": {
      "text/plain": [
       "['geeks-for-geeks', 'work-it-out', 'hellos-qert-ewc']"
      ]
     },
     "execution_count": 12,
     "metadata": {},
     "output_type": "execute_result"
    }
   ],
   "source": [
    "re.findall('[\\w]+-[\\w]+-[\\w]+',txt)"
   ]
  },
  {
   "cell_type": "code",
   "execution_count": 14,
   "id": "ce1201f4",
   "metadata": {},
   "outputs": [
    {
     "data": {
      "text/plain": [
       "['geeks-for-geeks']"
      ]
     },
     "execution_count": 14,
     "metadata": {},
     "output_type": "execute_result"
    }
   ],
   "source": [
    "re.findall('\\w\\w\\w\\w\\w-\\w\\w\\w-\\w\\w\\w\\w\\w',txt)"
   ]
  },
  {
   "cell_type": "code",
   "execution_count": 15,
   "id": "5eaff2d0",
   "metadata": {},
   "outputs": [
    {
     "data": {
      "text/plain": [
       "['geeks-', 'for-', 'work-', 'it-', 'hellos-', 'qert-']"
      ]
     },
     "execution_count": 15,
     "metadata": {},
     "output_type": "execute_result"
    }
   ],
   "source": [
    "re.findall('[\\w]+-',txt)"
   ]
  },
  {
   "cell_type": "markdown",
   "id": "7f1cbc32",
   "metadata": {},
   "source": [
    "## phone no pattern matching"
   ]
  },
  {
   "cell_type": "code",
   "execution_count": 5,
   "id": "823da5c3",
   "metadata": {},
   "outputs": [
    {
     "name": "stdout",
     "output_type": "stream",
     "text": [
      "2345-234-345\n",
      "343-4567-456\n",
      "2345-454-566\n"
     ]
    }
   ],
   "source": [
    "for i in ['2345-234-345','343-4567-456','2345-454-566']:\n",
    "    print(i)"
   ]
  },
  {
   "cell_type": "code",
   "execution_count": 13,
   "id": "7ff9cc26",
   "metadata": {},
   "outputs": [
    {
     "name": "stdout",
     "output_type": "stream",
     "text": [
      "['2345-', '234-']\n",
      "['343-', '4567-']\n",
      "['2345-', '454-']\n"
     ]
    }
   ],
   "source": [
    "for i in ['2345-234-345','343-4567-456','2345-454-566']:\n",
    "    print(re.findall('[\\d]+-',i))"
   ]
  },
  {
   "cell_type": "code",
   "execution_count": 14,
   "id": "5c9d6e66",
   "metadata": {},
   "outputs": [
    {
     "name": "stdout",
     "output_type": "stream",
     "text": [
      "['2345-234-345']\n",
      "['343-4567-456']\n",
      "['2345-454-566']\n"
     ]
    }
   ],
   "source": [
    "for i in ['2345-234-345','343-4567-456','2345-454-566']:\n",
    "    print(re.findall('[\\d]+-[\\d]+-[\\d]+',i))"
   ]
  },
  {
   "cell_type": "code",
   "execution_count": 15,
   "id": "d7d3dc02",
   "metadata": {},
   "outputs": [
    {
     "name": "stdout",
     "output_type": "stream",
     "text": [
      "['2345-234-345']\n",
      "['343-4567-456']\n",
      "[]\n"
     ]
    }
   ],
   "source": [
    "for i in ['2345-234-345','343-4567-456','2345-454']:\n",
    "    print(re.findall('[\\d]+-[\\d]+-[\\d]+',i))"
   ]
  },
  {
   "cell_type": "code",
   "execution_count": 18,
   "id": "fe29eacb",
   "metadata": {},
   "outputs": [
    {
     "name": "stdout",
     "output_type": "stream",
     "text": [
      "['2345 234 345']\n",
      "['343 4567 456']\n",
      "['2345 454 566']\n"
     ]
    }
   ],
   "source": [
    "for i in ['2345-234-345','343-4567-456','2345-454-566']:   #to remove - btw numbers\n",
    "    print(str(re.findall('[\\d]+-[\\d]+-[\\d]+',i)).replace('-',' '))"
   ]
  },
  {
   "cell_type": "code",
   "execution_count": 19,
   "id": "29bab655",
   "metadata": {},
   "outputs": [
    {
     "name": "stdout",
     "output_type": "stream",
     "text": [
      "2345 234 345\n",
      "343 4567 456\n",
      "2345 454 566\n"
     ]
    }
   ],
   "source": [
    "for i in ['2345-234-345','343-4567-456','2345-454-566']:\n",
    "    print(str(re.findall('[\\d]+-[\\d]+-[\\d]+',i)[0]).replace('-',' '))"
   ]
  },
  {
   "cell_type": "markdown",
   "id": "c47b9cf4",
   "metadata": {},
   "source": [
    "## D) Email Pattern Matching with re"
   ]
  },
  {
   "cell_type": "code",
   "execution_count": 3,
   "id": "6a082d14",
   "metadata": {},
   "outputs": [
    {
     "data": {
      "text/plain": [
       "<re.Match object; span=(0, 23), match='Hchandana0709@gmail.com'>"
      ]
     },
     "execution_count": 3,
     "metadata": {},
     "output_type": "execute_result"
    }
   ],
   "source": [
    "import re\n",
    "mail = 'Hchandana0709@gmail.com'\n",
    "p = '[A-Za-z0-9]+@[\\w]+.[\\w]+'\n",
    "re.search(p ,mail)"
   ]
  },
  {
   "cell_type": "code",
   "execution_count": 5,
   "id": "6d1dfcbc",
   "metadata": {},
   "outputs": [
    {
     "data": {
      "text/plain": [
       "<re.Match object; span=(0, 18), match='chandana0709@gmail'>"
      ]
     },
     "execution_count": 5,
     "metadata": {},
     "output_type": "execute_result"
    }
   ],
   "source": [
    "re.search(p ,'chandana0709@gmail')"
   ]
  },
  {
   "cell_type": "code",
   "execution_count": 11,
   "id": "90b1da58",
   "metadata": {},
   "outputs": [
    {
     "data": {
      "text/plain": [
       "'0709@gmail.in'"
      ]
     },
     "execution_count": 11,
     "metadata": {},
     "output_type": "execute_result"
    }
   ],
   "source": [
    "re.search(p ,'0709@gmail.in').group()"
   ]
  },
  {
   "cell_type": "code",
   "execution_count": 14,
   "id": "e8a71887",
   "metadata": {},
   "outputs": [],
   "source": [
    "re.search(p ,'0709gmail.in') #no output as its not matching pattern"
   ]
  },
  {
   "cell_type": "markdown",
   "id": "ba2aae4d",
   "metadata": {},
   "source": [
    "## email id with specific domain"
   ]
  },
  {
   "cell_type": "code",
   "execution_count": 28,
   "id": "6316adbc",
   "metadata": {},
   "outputs": [
    {
     "data": {
      "text/plain": [
       "<re.Match object; span=(0, 23), match='Hchandana0709@gmail.com'>"
      ]
     },
     "execution_count": 28,
     "metadata": {},
     "output_type": "execute_result"
    }
   ],
   "source": [
    "import re\n",
    "mail = 'Hchandana0709@gmail.com'\n",
    "p = '[A-Za-z0-9]+@(gmail.com)'\n",
    "re.search(p ,mail)           #gmail.com is common for all the mails"
   ]
  },
  {
   "cell_type": "code",
   "execution_count": 29,
   "id": "0786b7ad",
   "metadata": {},
   "outputs": [],
   "source": [
    "import re\n",
    "mail = 'Hchandana0709@yahoo.com'\n",
    "p = '[A-Za-z0-9]+@(gmail.com)'\n",
    "re.search(p ,mail)           #gmail.com is common for all the mails"
   ]
  },
  {
   "cell_type": "code",
   "execution_count": 38,
   "id": "2ea039f9",
   "metadata": {},
   "outputs": [
    {
     "data": {
      "text/plain": [
       "<re.Match object; span=(0, 16), match='Hc0709@yahoo.com'>"
      ]
     },
     "execution_count": 38,
     "metadata": {},
     "output_type": "execute_result"
    }
   ],
   "source": [
    "import re\n",
    "mail = 'Hc0709@yahoo.com'\n",
    "p = '[A-Za-z0-9]+@(yahoo.com)'\n",
    "re.search(p ,mail)           #yahoo.com is common for all the mails"
   ]
  },
  {
   "cell_type": "code",
   "execution_count": 39,
   "id": "60f182ca",
   "metadata": {},
   "outputs": [
    {
     "data": {
      "text/plain": [
       "<re.Match object; span=(0, 14), match='re34@gmail.edu'>"
      ]
     },
     "execution_count": 39,
     "metadata": {},
     "output_type": "execute_result"
    }
   ],
   "source": [
    "import re\n",
    "mail1 = 'Hc0709@yahoo.com'\n",
    "mail2 ='gd@gmail.www'\n",
    "mail3 ='re34@gmail.edu'\n",
    "p = '[A-Za-z0-9]+@[A-Za-z]+.(org|edu|gov|com)'\n",
    "re.search(p ,mail1)\n",
    "re.search(p ,mail2)\n",
    "re.search(p ,mail3)"
   ]
  },
  {
   "cell_type": "markdown",
   "id": "252ef3db",
   "metadata": {},
   "source": [
    "## E)DIY Pattern Matching - Continuous Numbers    "
   ]
  },
  {
   "cell_type": "code",
   "execution_count": null,
   "id": "430cf6ce",
   "metadata": {},
   "outputs": [],
   "source": [
    "#WITHOUT RE\n"
   ]
  },
  {
   "cell_type": "code",
   "execution_count": 40,
   "id": "416e0d8b",
   "metadata": {},
   "outputs": [
    {
     "name": "stdout",
     "output_type": "stream",
     "text": [
      "t False\n",
      "h False\n",
      "e False\n",
      "  False\n",
      "n False\n",
      "u False\n",
      "m False\n",
      "b False\n",
      "e False\n",
      "r False\n",
      "  False\n",
      "i False\n",
      "s False\n",
      "  False\n",
      "8 True\n",
      "7 True\n",
      "5 True\n",
      "5 True\n",
      "7 True\n",
      "9 True\n",
      "9 True\n",
      "  False\n",
      "n False\n",
      "o False\n",
      "t False\n",
      "  False\n",
      "4 True\n",
      "5 True\n",
      "6 True\n",
      "7 True\n",
      "8 True\n",
      "9 True\n",
      "9 True\n"
     ]
    }
   ],
   "source": [
    "txt = 'the number is 8755799 not 4567899'\n",
    "for i in range(len(txt)):\n",
    "    print(txt[i],txt[i].isdigit())"
   ]
  },
  {
   "cell_type": "code",
   "execution_count": 2,
   "id": "964a26fc",
   "metadata": {},
   "outputs": [
    {
     "name": "stdout",
     "output_type": "stream",
     "text": [
      "8\n",
      "7\n",
      "5\n",
      "5\n",
      "7\n",
      "9\n",
      "9\n",
      "4\n",
      "5\n",
      "6\n",
      "7\n",
      "8\n",
      "9\n",
      "9\n"
     ]
    }
   ],
   "source": [
    "txt = 'the number is 8755799 not 4567899'\n",
    "for i in range(len(txt)):\n",
    "    if(txt[i].isdigit()==True):\n",
    "        print(txt[i])"
   ]
  },
  {
   "cell_type": "markdown",
   "id": "4101f9b3",
   "metadata": {},
   "source": [
    "## continous numbers\n"
   ]
  },
  {
   "cell_type": "code",
   "execution_count": 4,
   "id": "28caefc5",
   "metadata": {},
   "outputs": [
    {
     "name": "stdout",
     "output_type": "stream",
     "text": [
      "8 1\n",
      "7 2\n",
      "5 3\n",
      "5 4\n",
      "7 5\n",
      "9 6\n",
      "9 7\n",
      "4 1\n",
      "5 2\n",
      "6 3\n",
      "7 4\n",
      "8 5\n",
      "9 6\n"
     ]
    }
   ],
   "source": [
    "txt = 'the number is 8755799 not 456789'\n",
    "\n",
    "c = 0 \n",
    "for i in range(len(txt)):\n",
    "    if(txt[i].isdigit() == True):\n",
    "        c += 1\n",
    "        print(txt[i],c) \n",
    "    else:\n",
    "        c=0"
   ]
  },
  {
   "cell_type": "code",
   "execution_count": 5,
   "id": "83eec2ef",
   "metadata": {},
   "outputs": [
    {
     "name": "stdout",
     "output_type": "stream",
     "text": [
      "8 1 14\n",
      "7 2 15\n",
      "5 3 16\n",
      "5 4 17\n",
      "7 5 18\n",
      "9 6 19\n",
      "9 7 20\n",
      "4 1 26\n",
      "5 2 27\n",
      "6 3 28\n",
      "7 4 29\n",
      "8 5 30\n",
      "9 6 31\n"
     ]
    }
   ],
   "source": [
    "txt = 'the number is 8755799 not 456789'\n",
    "\n",
    "c = 0 \n",
    "for i in range(len(txt)):\n",
    "    if(txt[i].isdigit() == True):\n",
    "        c += 1\n",
    "        print(txt[i],c,i)  #i index\n",
    "    else:\n",
    "        c=0"
   ]
  },
  {
   "cell_type": "code",
   "execution_count": 20,
   "id": "eb9671db",
   "metadata": {},
   "outputs": [
    {
     "name": "stdout",
     "output_type": "stream",
     "text": [
      "start 14\n",
      "End 21\n",
      "start 26\n"
     ]
    }
   ],
   "source": [
    "txt = 'the number is 8755799 not 456789'\n",
    "\n",
    "c = 0   #to maintain count  of digits\n",
    "\n",
    "index = []\n",
    "\n",
    "for i in range(len(txt)):\n",
    "    \n",
    "    if(txt[i].isdigit() == True): \n",
    "        \n",
    "        if(c == 0):\n",
    "            print('start',i)\n",
    "            \n",
    "        c += 1\n",
    "    else:\n",
    "        if(c!= 0):\n",
    "            print('End',i)\n",
    "        c = 0 \n",
    "\n",
    "        "
   ]
  },
  {
   "cell_type": "code",
   "execution_count": 25,
   "id": "5955da66",
   "metadata": {},
   "outputs": [
    {
     "name": "stdout",
     "output_type": "stream",
     "text": [
      "14 21\n",
      "8755799\n"
     ]
    }
   ],
   "source": [
    "txt = 'the number is 8755799 not 456789'\n",
    "\n",
    "c = 0   #to maintain count  of digits\n",
    "index = []\n",
    "\n",
    "for i in range(len(txt)):\n",
    "    \n",
    "    if(txt[i].isdigit() == True): #check if digit\n",
    "        if(c == 0):               #count nummber of digits\n",
    "            st = i                #starting the number\n",
    "        c += 1                    #increment the counter forthat number\n",
    "    else:                         #if not digit\n",
    "        if(c!=0):\n",
    "            end = i               #ending the number\n",
    "            print(st,end)          #print starting and ending index\n",
    "            print(txt[st:end])     #printing number\n",
    "        c = 0 \n",
    "\n",
    "        \n",
    "\n",
    "\n"
   ]
  },
  {
   "cell_type": "markdown",
   "id": "84135777",
   "metadata": {},
   "source": [
    "## F )DIY Pattern Matching - Words Finding"
   ]
  },
  {
   "cell_type": "code",
   "execution_count": 22,
   "id": "b33add02",
   "metadata": {},
   "outputs": [],
   "source": [
    "txt= 'AI is having the capability to revolutionize all the industries.The industry is ready for big change'.lower()\n",
    "word = 'having'"
   ]
  },
  {
   "cell_type": "code",
   "execution_count": 23,
   "id": "9a0ec172",
   "metadata": {},
   "outputs": [
    {
     "data": {
      "text/plain": [
       "True"
      ]
     },
     "execution_count": 23,
     "metadata": {},
     "output_type": "execute_result"
    }
   ],
   "source": [
    "word in txt"
   ]
  },
  {
   "cell_type": "code",
   "execution_count": 24,
   "id": "7f0d1c17",
   "metadata": {},
   "outputs": [
    {
     "name": "stdout",
     "output_type": "stream",
     "text": [
      "a 0\n",
      "i 1\n",
      "  2\n",
      "i 3\n",
      "s 4\n",
      "  5\n",
      "h 6\n",
      "a 7\n",
      "v 8\n",
      "i 9\n",
      "n 10\n",
      "g 11\n",
      "  12\n",
      "t 13\n",
      "h 14\n",
      "e 15\n",
      "  16\n",
      "c 17\n",
      "a 18\n",
      "p 19\n",
      "a 20\n",
      "b 21\n",
      "i 22\n",
      "l 23\n",
      "i 24\n",
      "t 25\n",
      "y 26\n",
      "  27\n",
      "t 28\n",
      "o 29\n",
      "  30\n",
      "r 31\n",
      "e 32\n",
      "v 33\n",
      "o 34\n",
      "l 35\n",
      "u 36\n",
      "t 37\n",
      "i 38\n",
      "o 39\n",
      "n 40\n",
      "i 41\n",
      "z 42\n",
      "e 43\n",
      "  44\n",
      "a 45\n",
      "l 46\n",
      "l 47\n",
      "  48\n",
      "t 49\n",
      "h 50\n",
      "e 51\n",
      "  52\n",
      "i 53\n",
      "n 54\n",
      "d 55\n",
      "u 56\n",
      "s 57\n",
      "t 58\n",
      "r 59\n",
      "i 60\n",
      "e 61\n",
      "s 62\n",
      ". 63\n",
      "t 64\n",
      "h 65\n",
      "e 66\n",
      "  67\n",
      "i 68\n",
      "n 69\n",
      "d 70\n",
      "u 71\n",
      "s 72\n",
      "t 73\n",
      "r 74\n",
      "y 75\n",
      "  76\n",
      "i 77\n",
      "s 78\n",
      "  79\n",
      "r 80\n",
      "e 81\n",
      "a 82\n",
      "d 83\n",
      "y 84\n",
      "  85\n",
      "f 86\n",
      "o 87\n",
      "r 88\n",
      "  89\n",
      "b 90\n",
      "i 91\n",
      "g 92\n",
      "  93\n",
      "c 94\n",
      "h 95\n",
      "a 96\n",
      "n 97\n",
      "g 98\n",
      "e 99\n"
     ]
    }
   ],
   "source": [
    "for i in range(len(txt)):\n",
    "    print(txt[i],i)"
   ]
  },
  {
   "cell_type": "code",
   "execution_count": 25,
   "id": "b62240df",
   "metadata": {},
   "outputs": [
    {
     "name": "stdout",
     "output_type": "stream",
     "text": [
      "ai is  0\n",
      "i is h 1\n",
      " is ha 2\n",
      "is hav 3\n",
      "s havi 4\n",
      " havin 5\n",
      "having 6\n",
      "aving  7\n",
      "ving t 8\n",
      "ing th 9\n",
      "ng the 10\n",
      "g the  11\n",
      " the c 12\n",
      "the ca 13\n",
      "he cap 14\n",
      "e capa 15\n",
      " capab 16\n",
      "capabi 17\n",
      "apabil 18\n",
      "pabili 19\n",
      "abilit 20\n",
      "bility 21\n",
      "ility  22\n",
      "lity t 23\n",
      "ity to 24\n",
      "ty to  25\n",
      "y to r 26\n",
      " to re 27\n",
      "to rev 28\n",
      "o revo 29\n",
      " revol 30\n",
      "revolu 31\n",
      "evolut 32\n",
      "voluti 33\n",
      "olutio 34\n",
      "lution 35\n",
      "utioni 36\n",
      "tioniz 37\n",
      "ionize 38\n",
      "onize  39\n",
      "nize a 40\n",
      "ize al 41\n",
      "ze all 42\n",
      "e all  43\n",
      " all t 44\n",
      "all th 45\n",
      "ll the 46\n",
      "l the  47\n",
      " the i 48\n",
      "the in 49\n",
      "he ind 50\n",
      "e indu 51\n",
      " indus 52\n",
      "indust 53\n",
      "ndustr 54\n",
      "dustri 55\n",
      "ustrie 56\n",
      "stries 57\n",
      "tries. 58\n",
      "ries.t 59\n",
      "ies.th 60\n",
      "es.the 61\n",
      "s.the  62\n",
      ".the i 63\n",
      "the in 64\n",
      "he ind 65\n",
      "e indu 66\n",
      " indus 67\n",
      "indust 68\n",
      "ndustr 69\n",
      "dustry 70\n",
      "ustry  71\n",
      "stry i 72\n",
      "try is 73\n",
      "ry is  74\n",
      "y is r 75\n",
      " is re 76\n",
      "is rea 77\n",
      "s read 78\n",
      " ready 79\n",
      "ready  80\n",
      "eady f 81\n",
      "ady fo 82\n",
      "dy for 83\n",
      "y for  84\n",
      " for b 85\n",
      "for bi 86\n",
      "or big 87\n",
      "r big  88\n",
      " big c 89\n",
      "big ch 90\n",
      "ig cha 91\n",
      "g chan 92\n",
      " chang 93\n",
      "change 94\n",
      "hange 95\n",
      "ange 96\n",
      "nge 97\n",
      "ge 98\n",
      "e 99\n"
     ]
    }
   ],
   "source": [
    "for i in range(len(txt)):\n",
    "    print(txt[i:i+6],i)   # as havinh is of length =6"
   ]
  },
  {
   "cell_type": "code",
   "execution_count": 26,
   "id": "d8f5f408",
   "metadata": {},
   "outputs": [
    {
     "name": "stdout",
     "output_type": "stream",
     "text": [
      "6 12\n"
     ]
    }
   ],
   "source": [
    "for i in range(len(txt)):\n",
    "    if(txt[i:i+len(word)]==word):\n",
    "        print(i,i+len(word))   #to return the starting and ending index of the word that needs to be searched"
   ]
  },
  {
   "cell_type": "code",
   "execution_count": 27,
   "id": "62af36bf",
   "metadata": {},
   "outputs": [],
   "source": [
    "word = 'the'.lower()"
   ]
  },
  {
   "cell_type": "code",
   "execution_count": 28,
   "id": "98d5aa5e",
   "metadata": {},
   "outputs": [
    {
     "name": "stdout",
     "output_type": "stream",
     "text": [
      "13 16\n",
      "49 52\n",
      "64 67\n"
     ]
    }
   ],
   "source": [
    "for i in range(len(txt)):\n",
    "    if(txt[i:i+len(word)]==word):\n",
    "        print(i,i+len(word))   #to return the starting and ending index of the word that needs to be searched"
   ]
  },
  {
   "cell_type": "markdown",
   "id": "aa905f26",
   "metadata": {},
   "source": [
    "## G)DIY Pattern Matching - Words starting from specific characters"
   ]
  },
  {
   "cell_type": "code",
   "execution_count": 43,
   "id": "c50e3d6a",
   "metadata": {},
   "outputs": [],
   "source": [
    "txt= 'AI is having the capability to revolutionize all the industries .T he industry is ready for big change'.lower()\n",
    "word = 'in' "
   ]
  },
  {
   "cell_type": "markdown",
   "id": "0f691a32",
   "metadata": {},
   "source": [
    "## 1)starting with specific character"
   ]
  },
  {
   "cell_type": "code",
   "execution_count": 46,
   "id": "fffcf736",
   "metadata": {},
   "outputs": [
    {
     "name": "stdout",
     "output_type": "stream",
     "text": [
      "ai\n",
      "is\n",
      "ha\n",
      "th\n",
      "ca\n",
      "to\n",
      "re\n",
      "al\n",
      "th\n",
      "in\n",
      ".t\n",
      "he\n",
      "in\n",
      "is\n",
      "re\n",
      "fo\n",
      "bi\n",
      "ch\n"
     ]
    }
   ],
   "source": [
    "#to print 2 letters \n",
    "for w in txt.split(' '):\n",
    "    print(w[:2])\n"
   ]
  },
  {
   "cell_type": "code",
   "execution_count": 47,
   "id": "6560773a",
   "metadata": {},
   "outputs": [
    {
     "name": "stdout",
     "output_type": "stream",
     "text": [
      "industries\n",
      "industry\n"
     ]
    }
   ],
   "source": [
    "#to find words that start with in\n",
    "for w in txt.split(' '):\n",
    "    if(w[:2].lower()==word.lower()):\n",
    "        print(w)"
   ]
  },
  {
   "cell_type": "markdown",
   "id": "57766258",
   "metadata": {},
   "source": [
    "## 2)ending with specific characters"
   ]
  },
  {
   "cell_type": "code",
   "execution_count": 49,
   "id": "2bd19666",
   "metadata": {},
   "outputs": [
    {
     "name": "stdout",
     "output_type": "stream",
     "text": [
      "i\n",
      "s\n",
      "g\n",
      "e\n",
      "y\n",
      "o\n",
      "e\n",
      "l\n",
      "e\n",
      "s\n",
      "t\n",
      "e\n",
      "y\n",
      "s\n",
      "y\n",
      "r\n",
      "g\n",
      "e\n"
     ]
    }
   ],
   "source": [
    "#to print last words\n",
    "for w in txt.split(\" \"):\n",
    "    print(w[-1:])"
   ]
  },
  {
   "cell_type": "code",
   "execution_count": 52,
   "id": "c3f54d68",
   "metadata": {},
   "outputs": [
    {
     "name": "stdout",
     "output_type": "stream",
     "text": [
      "the\n",
      "revolutionize\n",
      "the\n",
      "the\n",
      "change\n"
     ]
    }
   ],
   "source": [
    "#to print words ending with e\n",
    "txt= 'AI is having the capability to revolutionize all the industries. The industry is ready for big change'.lower()\n",
    "word = 'e'\n",
    "\n",
    "for w in txt.split(\" \"):\n",
    "    if(w[-1:].lower()==word.lower()):\n",
    "        print(w)"
   ]
  },
  {
   "cell_type": "code",
   "execution_count": 53,
   "id": "51f921f5",
   "metadata": {},
   "outputs": [
    {
     "name": "stdout",
     "output_type": "stream",
     "text": [
      "the\n",
      "the\n",
      "the\n"
     ]
    }
   ],
   "source": [
    "#to print words ending with he\n",
    "txt= 'AI is having the capability to revolutionize all the industries. The industry is ready for big change'.lower()\n",
    "word = 'he'\n",
    "\n",
    "for w in txt.split(\" \"):\n",
    "    if(w[-2:].lower()==word.lower()):\n",
    "        print(w)"
   ]
  },
  {
   "cell_type": "code",
   "execution_count": 54,
   "id": "e858d469",
   "metadata": {},
   "outputs": [
    {
     "data": {
      "text/plain": [
       "('hc0709@gmail.com', 'acc07@gmail.com', 'xyz0709@gmail.com')"
      ]
     },
     "execution_count": 54,
     "metadata": {},
     "output_type": "execute_result"
    }
   ],
   "source": [
    "'hc0709@gmail.com','acc07@gmail.com','xyz0709@gmail.com',"
   ]
  },
  {
   "cell_type": "code",
   "execution_count": 56,
   "id": "42691dbe",
   "metadata": {},
   "outputs": [
    {
     "name": "stdout",
     "output_type": "stream",
     "text": [
      "ai is\n",
      "is having\n",
      "having the\n",
      "the capability\n",
      "capability to\n",
      "to revolutionize\n",
      "revolutionize all\n",
      "all the\n",
      "the industries.\n",
      "industries. the\n",
      "the industry\n",
      "industry is\n",
      "is ready\n",
      "ready for\n",
      "for big\n",
      "big change\n"
     ]
    }
   ],
   "source": [
    "txt= 'AI is having the capability to revolutionize all the industries. The industry is ready for big change'.lower()\n",
    "\n",
    "for i in range(len(txt.split(\" \"))-1): #to help to make next word prediction easier\n",
    "    print(txt.split(' ')[i], txt.split(' ')[i+1])\n",
    "               \n",
    "               "
   ]
  },
  {
   "cell_type": "markdown",
   "id": "331abc6c",
   "metadata": {},
   "source": [
    "## H)DIY Pattern Matching - Email Extraction"
   ]
  },
  {
   "cell_type": "code",
   "execution_count": 80,
   "id": "12c2b307",
   "metadata": {},
   "outputs": [],
   "source": [
    "mails =['hc0709@gmail.com','acc07@aap.gov.in','xyz0709u@gmail.com',\n",
    "       'hc0709@gfg.org','acc07@orkut.com','xyz0709@yahoo.com',\n",
    "       'hc0709@gfg.org','acc07@gfg.org','xyz0709@gfg.co.in',]"
   ]
  },
  {
   "cell_type": "code",
   "execution_count": 60,
   "id": "d9ee5195",
   "metadata": {},
   "outputs": [
    {
     "name": "stdout",
     "output_type": "stream",
     "text": [
      "hc0709@gmail.com\n",
      "acc07@aap.gov.in\n",
      "xyz0709@gmail.com\n",
      "hc0709@gfg.org\n",
      "acc07@orkut.com\n",
      "xyz0709@yahoo.com\n",
      "hc0709@gfg.org\n",
      "acc07@gfg.org\n",
      "xyz0709@gfg.co.in\n"
     ]
    }
   ],
   "source": [
    "for mail in mails:\n",
    "    print(mail)"
   ]
  },
  {
   "cell_type": "code",
   "execution_count": null,
   "id": "589511e2",
   "metadata": {},
   "outputs": [],
   "source": [
    "UID+@+Host_name+domain_type"
   ]
  },
  {
   "cell_type": "code",
   "execution_count": 61,
   "id": "8347447d",
   "metadata": {},
   "outputs": [
    {
     "name": "stdout",
     "output_type": "stream",
     "text": [
      "['hc0709', 'gmail.com']\n",
      "['acc07', 'aap.gov.in']\n",
      "['xyz0709', 'gmail.com']\n",
      "['hc0709', 'gfg.org']\n",
      "['acc07', 'orkut.com']\n",
      "['xyz0709', 'yahoo.com']\n",
      "['hc0709', 'gfg.org']\n",
      "['acc07', 'gfg.org']\n",
      "['xyz0709', 'gfg.co.in']\n"
     ]
    }
   ],
   "source": [
    "for mail in mails:\n",
    "    print(mail.split(\"@\"))"
   ]
  },
  {
   "cell_type": "code",
   "execution_count": 67,
   "id": "090ded67",
   "metadata": {},
   "outputs": [
    {
     "name": "stdout",
     "output_type": "stream",
     "text": [
      "hc0709@gmail.com ['hc0709', 'gmail.com']\n",
      "acc07@aap.gov.in ['acc07', 'aap.gov.in']\n",
      "xyz0709@gmail.com ['xyz0709', 'gmail.com']\n",
      "hc0709@gfg.org ['hc0709', 'gfg.org']\n",
      "acc07@orkut.com ['acc07', 'orkut.com']\n",
      "xyz0709@yahoo.com ['xyz0709', 'yahoo.com']\n",
      "hc0709@gfg.org ['hc0709', 'gfg.org']\n",
      "acc07@gfg.org ['acc07', 'gfg.org']\n",
      "xyz0709@gfg.co.in ['xyz0709', 'gfg.co.in']\n"
     ]
    }
   ],
   "source": [
    "for mail in mails:\n",
    "    print(mail,mail.split(\"@\"))"
   ]
  },
  {
   "cell_type": "code",
   "execution_count": 68,
   "id": "68ba98a3",
   "metadata": {},
   "outputs": [
    {
     "name": "stdout",
     "output_type": "stream",
     "text": [
      "hc0709\n",
      "acc07\n",
      "xyz0709\n",
      "hc0709\n",
      "acc07\n",
      "xyz0709\n",
      "hc0709\n",
      "acc07\n",
      "xyz0709\n"
     ]
    }
   ],
   "source": [
    "for mail in mails:\n",
    "    print(mail.split(\"@\")[0])"
   ]
  },
  {
   "cell_type": "code",
   "execution_count": 69,
   "id": "e4415e39",
   "metadata": {},
   "outputs": [],
   "source": [
    "user_id =[]\n",
    "for mail in mails:\n",
    "    user_id.append(mail.split('@')[0])"
   ]
  },
  {
   "cell_type": "code",
   "execution_count": 81,
   "id": "0650b0d4",
   "metadata": {},
   "outputs": [
    {
     "name": "stdout",
     "output_type": "stream",
     "text": [
      "gmail.com\n",
      "aap.gov.in\n",
      "gmail.com\n",
      "gfg.org\n",
      "orkut.com\n",
      "yahoo.com\n",
      "gfg.org\n",
      "gfg.org\n",
      "gfg.co.in\n"
     ]
    }
   ],
   "source": [
    "user_id =[]\n",
    "for mail in mails:\n",
    "    user_id.append(mail.split('@')[0])\n",
    "    print(mail.split('@')[1])"
   ]
  },
  {
   "cell_type": "code",
   "execution_count": 82,
   "id": "89c28477",
   "metadata": {},
   "outputs": [
    {
     "name": "stdout",
     "output_type": "stream",
     "text": [
      "['gmail', 'com']\n",
      "['aap', 'gov', 'in']\n",
      "['gmail', 'com']\n",
      "['gfg', 'org']\n",
      "['orkut', 'com']\n",
      "['yahoo', 'com']\n",
      "['gfg', 'org']\n",
      "['gfg', 'org']\n",
      "['gfg', 'co', 'in']\n"
     ]
    }
   ],
   "source": [
    "user_id =[]\n",
    "for mail in mails:\n",
    "    user_id.append(mail.split('@')[0])\n",
    "    print(mail.split('@')[1].split('.'))"
   ]
  },
  {
   "cell_type": "code",
   "execution_count": 88,
   "id": "b25d0e91",
   "metadata": {},
   "outputs": [],
   "source": [
    "user_id =[]\n",
    "host_name=[]\n",
    "domain_type=[]\n",
    "for mail in mails:\n",
    "    user_id.append(mail.split('@')[0])\n",
    "    host_name.append(mail.split('@')[1].split('.')[0])\n",
    "    domain_type.append('.'.join(mail.split('@')[1].split('.')[1:]))"
   ]
  },
  {
   "cell_type": "code",
   "execution_count": 89,
   "id": "8f03b70d",
   "metadata": {},
   "outputs": [
    {
     "data": {
      "text/plain": [
       "['hc0709',\n",
       " 'acc07',\n",
       " 'xyz0709u',\n",
       " 'hc0709',\n",
       " 'acc07',\n",
       " 'xyz0709',\n",
       " 'hc0709',\n",
       " 'acc07',\n",
       " 'xyz0709']"
      ]
     },
     "execution_count": 89,
     "metadata": {},
     "output_type": "execute_result"
    }
   ],
   "source": [
    "user_id"
   ]
  },
  {
   "cell_type": "code",
   "execution_count": 90,
   "id": "6e5079bb",
   "metadata": {},
   "outputs": [
    {
     "data": {
      "text/plain": [
       "['gmail', 'aap', 'gmail', 'gfg', 'orkut', 'yahoo', 'gfg', 'gfg', 'gfg']"
      ]
     },
     "execution_count": 90,
     "metadata": {},
     "output_type": "execute_result"
    }
   ],
   "source": [
    "host_name"
   ]
  },
  {
   "cell_type": "code",
   "execution_count": 91,
   "id": "2240b72b",
   "metadata": {},
   "outputs": [
    {
     "data": {
      "text/plain": [
       "['com', 'gov.in', 'com', 'org', 'com', 'com', 'org', 'org', 'co.in']"
      ]
     },
     "execution_count": 91,
     "metadata": {},
     "output_type": "execute_result"
    }
   ],
   "source": [
    "domain_type"
   ]
  },
  {
   "cell_type": "code",
   "execution_count": null,
   "id": "9bb06c31",
   "metadata": {},
   "outputs": [],
   "source": []
  }
 ],
 "metadata": {
  "kernelspec": {
   "display_name": "Python 3 (ipykernel)",
   "language": "python",
   "name": "python3"
  },
  "language_info": {
   "codemirror_mode": {
    "name": "ipython",
    "version": 3
   },
   "file_extension": ".py",
   "mimetype": "text/x-python",
   "name": "python",
   "nbconvert_exporter": "python",
   "pygments_lexer": "ipython3",
   "version": "3.11.5"
  }
 },
 "nbformat": 4,
 "nbformat_minor": 5
}
